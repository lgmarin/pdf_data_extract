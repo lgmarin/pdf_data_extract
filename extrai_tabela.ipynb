{
 "cells": [
  {
   "cell_type": "markdown",
   "metadata": {},
   "source": [
    "## PDF File Table Data Extractor\n",
    "This Notebook is a helper to extract tables from a PDF file. \n",
    "The PDF contains data for planting different types of vegetables. The PDF is available by the Brazilian State Owned Company EMBRAPA."
   ]
  },
  {
   "cell_type": "markdown",
   "metadata": {},
   "source": [
    "## Install Dependencies\n",
    "\n",
    "For general data extraction from a pdf file, I'm using the [tabula-py](https://tabula-py.readthedocs.io/en/latest/getting_started.html#requirements) package. Take note that for this package to run correctly you should have installed in your machine the Java 8+."
   ]
  },
  {
   "cell_type": "code",
   "execution_count": null,
   "metadata": {},
   "outputs": [],
   "source": [
    "#Install Dependencies - tabula-py\n",
    "%pip install tabula-py"
   ]
  },
  {
   "cell_type": "markdown",
   "metadata": {},
   "source": [
    "## Import tabula-py package and select the file\n",
    "\n",
    "Make sure to set the correct file path for the PDF."
   ]
  },
  {
   "cell_type": "code",
   "execution_count": 1,
   "metadata": {},
   "outputs": [],
   "source": [
    "import tabula\n",
    "import pandas as pd\n",
    "import os\n",
    "\n",
    "# --> Load PDF file\n",
    "# Specify pdf file name (inside pdf folder)\n",
    "pdf_name = \"tabela_embrapa_clean.pdf\"\n",
    "pdf_file = os.path.join(\"pdf\", pdf_name)\n",
    "\n",
    "# --> Output CSV file\n",
    "csv_file = os.path.join(\"output\", pdf_name + \".csv\")\n",
    "\n",
    "columns = [\"Cultura\", \"Sul\", \"Sudeste\", \"Centro-Oeste\", \"Norte\",\"Entre Linhas\",\"Entre Plantas\", \"Tipo de Plantio\", \"Colheita\", \"Produção m2\"]\n"
   ]
  },
  {
   "cell_type": "markdown",
   "metadata": {},
   "source": [
    "## Read the table\n",
    "\n",
    "If you want to simply import the table to the notebook, just use the read command.\n",
    "\n",
    "Here you can specify if you want to read all the pages (With the pages=\"all\" argument) or specify the page number (use pages=2 or other page number). It is possible to specify if the document have multiple tables, that will be divided into different DataFrames."
   ]
  },
  {
   "cell_type": "code",
   "execution_count": null,
   "metadata": {},
   "outputs": [],
   "source": [
    "table = tabula.read_pdf(pdf_file, pages=\"all\", multiple_tables=False)"
   ]
  },
  {
   "cell_type": "markdown",
   "metadata": {},
   "source": [
    "## Export table to CSV\n",
    "\n",
    "To export the table to a CSV file, run the following command.\n",
    "\n",
    "Here you can also specify if you want to read all the pages or just a specific page. The last configuration is important to select the correct encoding to the file, so your accents will not be all messed up in the final document."
   ]
  },
  {
   "cell_type": "code",
   "execution_count": null,
   "metadata": {},
   "outputs": [],
   "source": [
    "tabula.convert_into(pdf_file, csv_file, output_format=\"csv\", pages='all', java_options=\"-Dfile.encoding=UTF8\")"
   ]
  }
 ],
 "metadata": {
  "interpreter": {
   "hash": "f1023349960d19f96f872dda9d5b5e94247ae02a66ea97e0746d4b96d9ae62d7"
  },
  "kernelspec": {
   "display_name": "Python 3.9.12 ('base')",
   "language": "python",
   "name": "python3"
  },
  "language_info": {
   "codemirror_mode": {
    "name": "ipython",
    "version": 3
   },
   "file_extension": ".py",
   "mimetype": "text/x-python",
   "name": "python",
   "nbconvert_exporter": "python",
   "pygments_lexer": "ipython3",
   "version": "3.9.12"
  },
  "orig_nbformat": 4
 },
 "nbformat": 4,
 "nbformat_minor": 2
}
