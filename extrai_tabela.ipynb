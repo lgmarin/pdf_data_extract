{
 "cells": [
  {
   "cell_type": "markdown",
   "metadata": {},
   "source": [
    "## PDF File Table Data Extractor\n",
    "This Notebook is a helper to extract tables from a PDF file. \n",
    "The PDF contains data for planting different types of vegetables. The PDF is available by the Brazilian State Owned Company EMBRAPA."
   ]
  },
  {
   "cell_type": "markdown",
   "metadata": {},
   "source": [
    "## Install Dependencies\n",
    "\n",
    "For general data extraction from a pdf file, I'm using the [tabula-py](https://tabula-py.readthedocs.io/en/latest/getting_started.html#requirements) package. Take note that for this package to run correctly you should have installed in your machine the Java 8+."
   ]
  },
  {
   "cell_type": "code",
   "execution_count": 1,
   "metadata": {},
   "outputs": [
    {
     "name": "stdout",
     "output_type": "stream",
     "text": [
      "Collecting tabula-py\n",
      "  Downloading tabula_py-2.4.0-py3-none-any.whl (12.0 MB)\n",
      "Requirement already satisfied: numpy in c:\\users\\luiz.marin\\anaconda3\\lib\\site-packages (from tabula-py) (1.21.5)\n",
      "Requirement already satisfied: pandas>=0.25.3 in c:\\users\\luiz.marin\\anaconda3\\lib\\site-packages (from tabula-py) (1.4.2)\n",
      "Collecting distro\n",
      "  Downloading distro-1.7.0-py3-none-any.whl (20 kB)\n",
      "Requirement already satisfied: pytz>=2020.1 in c:\\users\\luiz.marin\\anaconda3\\lib\\site-packages (from pandas>=0.25.3->tabula-py) (2021.3)\n",
      "Requirement already satisfied: python-dateutil>=2.8.1 in c:\\users\\luiz.marin\\anaconda3\\lib\\site-packages (from pandas>=0.25.3->tabula-py) (2.8.2)\n",
      "Requirement already satisfied: six>=1.5 in c:\\users\\luiz.marin\\anaconda3\\lib\\site-packages (from python-dateutil>=2.8.1->pandas>=0.25.3->tabula-py) (1.16.0)\n",
      "Installing collected packages: distro, tabula-py\n",
      "Successfully installed distro-1.7.0 tabula-py-2.4.0\n",
      "Note: you may need to restart the kernel to use updated packages.\n"
     ]
    }
   ],
   "source": [
    "#Install Dependencies - tabula-py\n",
    "%pip install tabula-py"
   ]
  },
  {
   "cell_type": "markdown",
   "metadata": {},
   "source": [
    "## Import tabula-py package and configurations\n",
    "\n",
    "Make sure to set the correct file path for the PDF."
   ]
  },
  {
   "cell_type": "code",
   "execution_count": 6,
   "metadata": {},
   "outputs": [
    {
     "name": "stderr",
     "output_type": "stream",
     "text": [
      "Got stderr: jun 10, 2022 2:59:34 PM org.apache.fontbox.ttf.CmapSubtable processSubtype4\n",
      "ADVERTÊNCIA: cmap format 4 subtable is empty\n",
      "jun 10, 2022 2:59:34 PM org.apache.fontbox.ttf.CmapSubtable processSubtype4\n",
      "ADVERTÊNCIA: cmap format 4 subtable is empty\n",
      "jun 10, 2022 2:59:34 PM org.apache.fontbox.ttf.CmapSubtable processSubtype4\n",
      "ADVERTÊNCIA: cmap format 4 subtable is empty\n",
      "jun 10, 2022 2:59:34 PM org.apache.fontbox.ttf.CmapSubtable processSubtype4\n",
      "ADVERTÊNCIA: cmap format 4 subtable is empty\n",
      "\n"
     ]
    }
   ],
   "source": [
    "from tabula import read_pdf\n",
    "\n",
    "#Load PDF file\n",
    "table = read_pdf(\"pdf\\\\tabela_embrapa.pdf\", pages=1)\n"
   ]
  }
 ],
 "metadata": {
  "interpreter": {
   "hash": "f1023349960d19f96f872dda9d5b5e94247ae02a66ea97e0746d4b96d9ae62d7"
  },
  "kernelspec": {
   "display_name": "Python 3.9.12 ('base')",
   "language": "python",
   "name": "python3"
  },
  "language_info": {
   "codemirror_mode": {
    "name": "ipython",
    "version": 3
   },
   "file_extension": ".py",
   "mimetype": "text/x-python",
   "name": "python",
   "nbconvert_exporter": "python",
   "pygments_lexer": "ipython3",
   "version": "3.9.12"
  },
  "orig_nbformat": 4
 },
 "nbformat": 4,
 "nbformat_minor": 2
}
