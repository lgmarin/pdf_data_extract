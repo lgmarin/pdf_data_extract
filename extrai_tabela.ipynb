{
 "cells": [
  {
   "cell_type": "markdown",
   "metadata": {},
   "source": [
    "## PDF File Table Data Extractor\n",
    "This Notebook is a helper to extract tables from a PDF file. \n",
    "The PDF contains data for planting different types of vegetables. The PDF is available by the Brazilian State Owned Company EMBRAPA."
   ]
  },
  {
   "cell_type": "markdown",
   "metadata": {},
   "source": [
    "## Install Dependencies\n",
    "\n",
    "For general data extraction from a pdf file, I'm using the [tabula-py](https://tabula-py.readthedocs.io/en/latest/getting_started.html#requirements) package. Take note that for this package to run correctly you should have installed in your machine the Java 8+."
   ]
  },
  {
   "cell_type": "code",
   "execution_count": null,
   "metadata": {},
   "outputs": [],
   "source": [
    "#Install Dependencies - tabula-py\n",
    "%pip install tabula-py"
   ]
  },
  {
   "cell_type": "markdown",
   "metadata": {},
   "source": [
    "## Import tabula-py package and select the file\n",
    "\n",
    "Make sure to set the correct file path for the PDF."
   ]
  },
  {
   "cell_type": "code",
   "execution_count": 11,
   "metadata": {},
   "outputs": [],
   "source": [
    "import tabula\n",
    "import pandas as pd\n",
    "import os\n",
    "\n",
    "# --> Load PDF file\n",
    "# Specify pdf file name (inside pdf folder)\n",
    "pdf_name = \"tabela_embrapa_clean.pdf\"\n",
    "pdf_file = os.path.join(\"pdf\", pdf_name)\n",
    "\n",
    "# --> Output CSV file\n",
    "csv_file = os.path.join(\"output\", pdf_name + \".csv\")\n",
    "\n",
    "columns = [\"Cultura\", \"Sul\", \"Sudeste\", \"Nordeste\", \"Centro-Oeste\", \"Norte\",\"Entre Linhas\",\"Entre Plantas\", \"Tipo de Plantio\", \"Colheita\", \"Produção m2\"]\n"
   ]
  },
  {
   "cell_type": "markdown",
   "metadata": {},
   "source": [
    "## Read the table\n",
    "\n",
    "If you want to simply import the table to the notebook, just use the read command.\n",
    "\n",
    "Here you can specify if you want to read all the pages (With the pages=\"all\" argument) or specify the page number (use pages=2 or other page number). It is possible to specify if the document have multiple tables, that will be divided into different DataFrames."
   ]
  },
  {
   "cell_type": "code",
   "execution_count": 12,
   "metadata": {},
   "outputs": [],
   "source": [
    "table = tabula.read_pdf(pdf_file, pages=\"all\", multiple_tables=False)"
   ]
  },
  {
   "cell_type": "markdown",
   "metadata": {},
   "source": [
    "The result of this command will a list of Pandas Data Frames, remember that this command could return a list with different tables inside the PDF file. If you want to manipulate the DataFrame, make sure to specify the list index.\n",
    "\n",
    "Knowing that, we can specify the column names and generate a more readable structure."
   ]
  },
  {
   "cell_type": "code",
   "execution_count": 13,
   "metadata": {},
   "outputs": [
    {
     "data": {
      "text/html": [
       "<div>\n",
       "<style scoped>\n",
       "    .dataframe tbody tr th:only-of-type {\n",
       "        vertical-align: middle;\n",
       "    }\n",
       "\n",
       "    .dataframe tbody tr th {\n",
       "        vertical-align: top;\n",
       "    }\n",
       "\n",
       "    .dataframe thead th {\n",
       "        text-align: right;\n",
       "    }\n",
       "</style>\n",
       "<table border=\"1\" class=\"dataframe\">\n",
       "  <thead>\n",
       "    <tr style=\"text-align: right;\">\n",
       "      <th></th>\n",
       "      <th>Cultura</th>\n",
       "      <th>Sul</th>\n",
       "      <th>Sudeste</th>\n",
       "      <th>Nordeste</th>\n",
       "      <th>Centro-Oeste</th>\n",
       "      <th>Norte</th>\n",
       "      <th>Entre Linhas</th>\n",
       "      <th>Entre Plantas</th>\n",
       "      <th>Tipo de Plantio</th>\n",
       "      <th>Colheita</th>\n",
       "      <th>Produção m2</th>\n",
       "    </tr>\n",
       "  </thead>\n",
       "  <tbody>\n",
       "    <tr>\n",
       "      <th>0</th>\n",
       "      <td>Acelga</td>\n",
       "      <td>Fev/jul</td>\n",
       "      <td>Fev/jul</td>\n",
       "      <td>*</td>\n",
       "      <td>*</td>\n",
       "      <td>Abr/jun</td>\n",
       "      <td>0,40</td>\n",
       "      <td>0,30</td>\n",
       "      <td>Muda/\\rcanteiro</td>\n",
       "      <td>60 - 70</td>\n",
       "      <td>1,5 a 2,0 kg</td>\n",
       "    </tr>\n",
       "    <tr>\n",
       "      <th>1</th>\n",
       "      <td>Agrião</td>\n",
       "      <td>Fev/out</td>\n",
       "      <td>Fev/ju</td>\n",
       "      <td>Mar/set</td>\n",
       "      <td>Mar/jul</td>\n",
       "      <td>Abr/jul</td>\n",
       "      <td>0,20</td>\n",
       "      <td>0,10</td>\n",
       "      <td>Estacas\\r(muda)/ cova</td>\n",
       "      <td>60 - 70</td>\n",
       "      <td>4,0 a 5,0 kg</td>\n",
       "    </tr>\n",
       "    <tr>\n",
       "      <th>2</th>\n",
       "      <td>Alface de\\rinverno</td>\n",
       "      <td>Fev/out</td>\n",
       "      <td>Fev/jul</td>\n",
       "      <td>Mar/set</td>\n",
       "      <td>Mar/set</td>\n",
       "      <td>Mar/jul</td>\n",
       "      <td>0,25</td>\n",
       "      <td>0,25</td>\n",
       "      <td>Muda/\\rcanteiro</td>\n",
       "      <td>60 - 80</td>\n",
       "      <td>16 pés</td>\n",
       "    </tr>\n",
       "    <tr>\n",
       "      <th>3</th>\n",
       "      <td>Alface de\\rverão</td>\n",
       "      <td>Ano todo</td>\n",
       "      <td>Ano todo</td>\n",
       "      <td>Ano todo</td>\n",
       "      <td>Ano todo</td>\n",
       "      <td>Ano\\rtodo</td>\n",
       "      <td>0,25</td>\n",
       "      <td>0,25</td>\n",
       "      <td>Muda/\\rcanteiro</td>\n",
       "      <td>50 - 70</td>\n",
       "      <td>16 pés</td>\n",
       "    </tr>\n",
       "    <tr>\n",
       "      <th>4</th>\n",
       "      <td>Alho</td>\n",
       "      <td>Maio/jun</td>\n",
       "      <td>Mar/abr</td>\n",
       "      <td>Maio</td>\n",
       "      <td>Mar/abr</td>\n",
       "      <td>*</td>\n",
       "      <td>0,25</td>\n",
       "      <td>0,10</td>\n",
       "      <td>SD/canteiro</td>\n",
       "      <td>150 - 180</td>\n",
       "      <td>0,4 a 0,6 kg</td>\n",
       "    </tr>\n",
       "  </tbody>\n",
       "</table>\n",
       "</div>"
      ],
      "text/plain": [
       "              Cultura       Sul   Sudeste  Nordeste Centro-Oeste      Norte  \\\n",
       "0              Acelga   Fev/jul   Fev/jul         *            *    Abr/jun   \n",
       "1              Agrião   Fev/out    Fev/ju   Mar/set      Mar/jul    Abr/jul   \n",
       "2  Alface de\\rinverno   Fev/out   Fev/jul   Mar/set      Mar/set    Mar/jul   \n",
       "3    Alface de\\rverão  Ano todo  Ano todo  Ano todo     Ano todo  Ano\\rtodo   \n",
       "4                Alho  Maio/jun   Mar/abr      Maio      Mar/abr          *   \n",
       "\n",
       "  Entre Linhas Entre Plantas        Tipo de Plantio   Colheita   Produção m2  \n",
       "0         0,40          0,30        Muda/\\rcanteiro    60 - 70  1,5 a 2,0 kg  \n",
       "1         0,20          0,10  Estacas\\r(muda)/ cova    60 - 70  4,0 a 5,0 kg  \n",
       "2         0,25          0,25        Muda/\\rcanteiro    60 - 80        16 pés  \n",
       "3         0,25          0,25        Muda/\\rcanteiro    50 - 70        16 pés  \n",
       "4         0,25          0,10            SD/canteiro  150 - 180  0,4 a 0,6 kg  "
      ]
     },
     "execution_count": 13,
     "metadata": {},
     "output_type": "execute_result"
    }
   ],
   "source": [
    "table[0].columns = columns\n",
    "\n",
    "table[0].head()"
   ]
  },
  {
   "cell_type": "markdown",
   "metadata": {},
   "source": [
    "## Export table directly to CSV\n",
    "\n",
    "To export the table directly to a CSV file, run the following command.\n",
    "\n",
    "Here you can also specify if you want to read all the pages or just a specific page. The last configuration is important to select the correct encoding to the file, so your accents will not be all messed up in the final document."
   ]
  },
  {
   "cell_type": "code",
   "execution_count": 3,
   "metadata": {},
   "outputs": [],
   "source": [
    "tabula.convert_into(pdf_file, csv_file, output_format=\"csv\", pages='all', java_options=\"-Dfile.encoding=UTF8\")"
   ]
  }
 ],
 "metadata": {
  "interpreter": {
   "hash": "f1023349960d19f96f872dda9d5b5e94247ae02a66ea97e0746d4b96d9ae62d7"
  },
  "kernelspec": {
   "display_name": "Python 3.9.12 ('base')",
   "language": "python",
   "name": "python3"
  },
  "language_info": {
   "codemirror_mode": {
    "name": "ipython",
    "version": 3
   },
   "file_extension": ".py",
   "mimetype": "text/x-python",
   "name": "python",
   "nbconvert_exporter": "python",
   "pygments_lexer": "ipython3",
   "version": "3.9.12"
  },
  "orig_nbformat": 4
 },
 "nbformat": 4,
 "nbformat_minor": 2
}
