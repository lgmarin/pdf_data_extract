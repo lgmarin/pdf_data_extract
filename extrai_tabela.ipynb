{
 "cells": [
  {
   "cell_type": "markdown",
   "metadata": {},
   "source": [
    "## PDF File Table Data Extractor\n",
    "This Notebook is a helper to extract tables from a PDF file. \n",
    "The PDF contains data for planting different types of vegetables. The PDF is available by the Brazilian State Owned Company EMBRAPA."
   ]
  },
  {
   "cell_type": "markdown",
   "metadata": {},
   "source": [
    "## Install Dependencies\n",
    "\n",
    "For general data extraction from a pdf file, I'm using the [tabula-py](https://tabula-py.readthedocs.io/en/latest/getting_started.html#requirements) package. Take note that for this package to run correctly you should have installed in your machine the Java 8+."
   ]
  },
  {
   "cell_type": "code",
   "execution_count": null,
   "metadata": {},
   "outputs": [],
   "source": [
    "#Install Dependencies - tabula-py\n",
    "%pip install tabula-py"
   ]
  },
  {
   "cell_type": "markdown",
   "metadata": {},
   "source": [
    "## Import tabula-py package and configurations\n",
    "\n",
    "Make sure to set the correct file path for the PDF."
   ]
  },
  {
   "cell_type": "code",
   "execution_count": 14,
   "metadata": {},
   "outputs": [
    {
     "data": {
      "text/html": [
       "<div>\n",
       "<style scoped>\n",
       "    .dataframe tbody tr th:only-of-type {\n",
       "        vertical-align: middle;\n",
       "    }\n",
       "\n",
       "    .dataframe tbody tr th {\n",
       "        vertical-align: top;\n",
       "    }\n",
       "\n",
       "    .dataframe thead th {\n",
       "        text-align: right;\n",
       "    }\n",
       "</style>\n",
       "<table border=\"1\" class=\"dataframe\">\n",
       "  <thead>\n",
       "    <tr style=\"text-align: right;\">\n",
       "      <th></th>\n",
       "      <th>Abobrinha</th>\n",
       "      <th>Set/mai</th>\n",
       "      <th>Ago/maio</th>\n",
       "      <th>Mar/out</th>\n",
       "      <th>Ano todo</th>\n",
       "      <th>Abr/ago</th>\n",
       "      <th>1,50</th>\n",
       "      <th>1,00</th>\n",
       "      <th>SD/cova</th>\n",
       "      <th>45 - 60</th>\n",
       "      <th>1,0 a 1,5 kg</th>\n",
       "    </tr>\n",
       "  </thead>\n",
       "  <tbody>\n",
       "    <tr>\n",
       "      <th>Cultura</th>\n",
       "      <td>NaN</td>\n",
       "      <td>NaN</td>\n",
       "      <td>NaN</td>\n",
       "      <td>NaN</td>\n",
       "      <td>NaN</td>\n",
       "      <td>NaN</td>\n",
       "      <td>NaN</td>\n",
       "      <td>NaN</td>\n",
       "      <td>NaN</td>\n",
       "      <td>NaN</td>\n",
       "      <td>NaN</td>\n",
       "    </tr>\n",
       "    <tr>\n",
       "      <th>Sul</th>\n",
       "      <td>NaN</td>\n",
       "      <td>NaN</td>\n",
       "      <td>NaN</td>\n",
       "      <td>NaN</td>\n",
       "      <td>NaN</td>\n",
       "      <td>NaN</td>\n",
       "      <td>NaN</td>\n",
       "      <td>NaN</td>\n",
       "      <td>NaN</td>\n",
       "      <td>NaN</td>\n",
       "      <td>NaN</td>\n",
       "    </tr>\n",
       "    <tr>\n",
       "      <th>Sudeste</th>\n",
       "      <td>NaN</td>\n",
       "      <td>NaN</td>\n",
       "      <td>NaN</td>\n",
       "      <td>NaN</td>\n",
       "      <td>NaN</td>\n",
       "      <td>NaN</td>\n",
       "      <td>NaN</td>\n",
       "      <td>NaN</td>\n",
       "      <td>NaN</td>\n",
       "      <td>NaN</td>\n",
       "      <td>NaN</td>\n",
       "    </tr>\n",
       "    <tr>\n",
       "      <th>Centro-Oeste</th>\n",
       "      <td>NaN</td>\n",
       "      <td>NaN</td>\n",
       "      <td>NaN</td>\n",
       "      <td>NaN</td>\n",
       "      <td>NaN</td>\n",
       "      <td>NaN</td>\n",
       "      <td>NaN</td>\n",
       "      <td>NaN</td>\n",
       "      <td>NaN</td>\n",
       "      <td>NaN</td>\n",
       "      <td>NaN</td>\n",
       "    </tr>\n",
       "    <tr>\n",
       "      <th>Norte</th>\n",
       "      <td>NaN</td>\n",
       "      <td>NaN</td>\n",
       "      <td>NaN</td>\n",
       "      <td>NaN</td>\n",
       "      <td>NaN</td>\n",
       "      <td>NaN</td>\n",
       "      <td>NaN</td>\n",
       "      <td>NaN</td>\n",
       "      <td>NaN</td>\n",
       "      <td>NaN</td>\n",
       "      <td>NaN</td>\n",
       "    </tr>\n",
       "  </tbody>\n",
       "</table>\n",
       "</div>"
      ],
      "text/plain": [
       "             Abobrinha Set/mai Ago/maio Mar/out Ano todo Abr/ago 1,50 1,00  \\\n",
       "Cultura            NaN     NaN      NaN     NaN      NaN     NaN  NaN  NaN   \n",
       "Sul                NaN     NaN      NaN     NaN      NaN     NaN  NaN  NaN   \n",
       "Sudeste            NaN     NaN      NaN     NaN      NaN     NaN  NaN  NaN   \n",
       "Centro-Oeste       NaN     NaN      NaN     NaN      NaN     NaN  NaN  NaN   \n",
       "Norte              NaN     NaN      NaN     NaN      NaN     NaN  NaN  NaN   \n",
       "\n",
       "             SD/cova 45 - 60 1,0 a 1,5 kg  \n",
       "Cultura          NaN     NaN          NaN  \n",
       "Sul              NaN     NaN          NaN  \n",
       "Sudeste          NaN     NaN          NaN  \n",
       "Centro-Oeste     NaN     NaN          NaN  \n",
       "Norte            NaN     NaN          NaN  "
      ]
     },
     "execution_count": 14,
     "metadata": {},
     "output_type": "execute_result"
    }
   ],
   "source": [
    "import tabula\n",
    "import pandas as pd\n",
    "\n",
    "#Load PDF file\n",
    "pdf_file = \"pdf\\\\tabela_embrapa_clean.pdf\"\n",
    "#table = tabula.read_pdf(pdf_file, pages=\"all\", multiple_tables=False)\n",
    "\n",
    "#tabula.convert_into(pdf_file, \"output.csv\", output_format=\"csv\", pages='all', java_options=\"-Dfile.encoding=UTF8\")\n",
    "\n",
    "columns = [\"Cultura\", \"Sul\", \"Sudeste\", \"Centro-Oeste\", \"Norte\",\"Entre Linhas\",\"Entre Plantas\", \"Tipo de Plantio\", \"Colheita\", \"Produção m2\"]\n"
   ]
  }
 ],
 "metadata": {
  "interpreter": {
   "hash": "f1023349960d19f96f872dda9d5b5e94247ae02a66ea97e0746d4b96d9ae62d7"
  },
  "kernelspec": {
   "display_name": "Python 3.9.12 ('base')",
   "language": "python",
   "name": "python3"
  },
  "language_info": {
   "codemirror_mode": {
    "name": "ipython",
    "version": 3
   },
   "file_extension": ".py",
   "mimetype": "text/x-python",
   "name": "python",
   "nbconvert_exporter": "python",
   "pygments_lexer": "ipython3",
   "version": "3.9.12"
  },
  "orig_nbformat": 4
 },
 "nbformat": 4,
 "nbformat_minor": 2
}
