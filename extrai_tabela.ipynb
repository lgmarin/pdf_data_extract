{
 "cells": [
  {
   "cell_type": "markdown",
   "metadata": {},
   "source": [
    "## PDF File Table Data Extractor\n",
    "This Notebook is a helper to extract tables from a PDF file. \n",
    "The PDF contains data for planting different types of vegetables. The PDF is available by the Brazilian State Owned Company EMBRAPA."
   ]
  },
  {
   "cell_type": "markdown",
   "metadata": {},
   "source": [
    "## Install Dependencies\n",
    "\n",
    "For general data extraction from a pdf file, I'm using the [tabula-py](https://tabula-py.readthedocs.io/en/latest/getting_started.html#requirements) package. Take note that for this package to run correctly you should have installed in your machine the Java 8+."
   ]
  },
  {
   "cell_type": "code",
   "execution_count": null,
   "metadata": {},
   "outputs": [],
   "source": [
    "#Install Dependencies - tabula-py\n",
    "%pip install tabula-py"
   ]
  },
  {
   "cell_type": "markdown",
   "metadata": {},
   "source": [
    "## Import tabula-py package and configurations\n",
    "\n",
    "Make sure to set the correct file path for the PDF."
   ]
  },
  {
   "cell_type": "code",
   "execution_count": 3,
   "metadata": {},
   "outputs": [
    {
     "name": "stderr",
     "output_type": "stream",
     "text": [
      "Got stderr: jun 13, 2022 3:40:48 PM org.apache.fontbox.ttf.CmapSubtable processSubtype4\n",
      "ADVERTÊNCIA: cmap format 4 subtable is empty\n",
      "jun 13, 2022 3:40:48 PM org.apache.fontbox.ttf.CmapSubtable processSubtype4\n",
      "ADVERTÊNCIA: cmap format 4 subtable is empty\n",
      "\n"
     ]
    },
    {
     "name": "stdout",
     "output_type": "stream",
     "text": [
      "[             ações gerais sobre plantio de hortaliças Unnamed: 0    Unnamed: 1\n",
      "0                  Época de plantio   Espaçamento (m)   Colheita      Produção\n",
      "1                                         Entre Entre      (dias           NaN\n",
      "2          Sudeste Nordeste Centro-Oest Norte Tipo de        NaN          / m2\n",
      "3                                    linhas   plantas     após o           NaN\n",
      "4                                           e plantio   plantio)           NaN\n",
      "5   et/mar Mar/out Ano todo Abr/ago 2,50 2,50 SD**...   90 - 120  1,0 a 1,5 kg\n",
      "6   go/maio Mar/out Ano todo Abr/ago 1,50 1,00 SD/...    45 - 60  1,0 a 1,5 kg\n",
      "7                  ev/jul * * Abr/jun 0,40 0,30 Muda/    60 - 70  1,5 a 2,0 kg\n",
      "8                                            canteiro        NaN           NaN\n",
      "9                                             Estacas        NaN           NaN\n",
      "10  ev/ju Mar/set Mar/jul Abr/jul 0,20 0,10 (muda)...    60 - 70  4,0 a 5,0 kg\n",
      "11                                                NaN        NaN           NaN\n",
      "12     ev/jul Mar/set Mar/set Mar/jul 0,25 0,25 Muda/    60 - 80        16 pés\n",
      "13                                           canteiro        NaN           NaN\n",
      "14                                                NaN        NaN           NaN\n",
      "15      no todo Ano todo Ano todo Ano 0,25 0,25 Muda/    50 - 70        16 pés\n",
      "16                                      todo canteiro        NaN           NaN\n",
      "17        ar/abr Maio Mar/abr * 0,25 0,10 SD/canteiro  150 - 180  0,4 a 0,6 kg\n",
      "18     ev/ago Fev/ago Fev/ago Abr/ago 0,25 0,25 Muda/    60 - 70        16 pés\n",
      "19                                           canteiro        NaN           NaN\n",
      "20            br/maio * Abr/maio * 0,90 0,30 SD/sulco   90 - 120  2,0 a 3,0 kg\n",
      "21              ut/dez * Out/dez * 0,90 0,30 SD/leira  120 - 150  1,0 a 1,5 kg\n",
      "22  go/mar Ano todo Ago/fev Abr/ago 1,20 1,00 SD/c...  100 - 120  7,0 a 8,0 kg\n",
      "23  et/fev Set/fev Ano todo Ano todo 1,00 0,40 Mud...    60 - 70  2,0 a 2,5 kg\n",
      "24    no todo Abr/ago Abr/ago * 0,20 0,10 SD/canteiro    60 - 70  3,0 a 4,0 kg\n",
      "25                                                NaN        NaN           NaN\n",
      "26            ev/jul * Fev/maio * 0,90 0,50 Muda/cova   90 - 100  1,0 a 3,0 kg\n",
      "27                                                NaN        NaN           NaN\n",
      "28  et/jan Out/fev Out/jan Abr/jul 0,90 0,50 Muda/...   80 - 100  1,0 a 3,0 kg\n",
      "29                                           SD-muda/        NaN           NaN\n",
      "30  ev/maio Fev/abr Fev/maio Fev/maio 0,40 0,10 ca...  120 - 180  1,0 a 2,0 kg\n",
      "31    no todo Mar/jul Abr/ago Abr/out 0,25 0,15 Muda/   80 - 100  0,5 a 0,6 kg\n",
      "32                                           canteiro        NaN           NaN]\n"
     ]
    }
   ],
   "source": [
    "from tabula import read_pdf\n",
    "\n",
    "#Load PDF file\n",
    "table = read_pdf(\"pdf\\\\tabela_embrapa.pdf\", area=(45,145,547,732 ), pages=1)\n",
    "print(table)"
   ]
  }
 ],
 "metadata": {
  "interpreter": {
   "hash": "f1023349960d19f96f872dda9d5b5e94247ae02a66ea97e0746d4b96d9ae62d7"
  },
  "kernelspec": {
   "display_name": "Python 3.9.12 ('base')",
   "language": "python",
   "name": "python3"
  },
  "language_info": {
   "codemirror_mode": {
    "name": "ipython",
    "version": 3
   },
   "file_extension": ".py",
   "mimetype": "text/x-python",
   "name": "python",
   "nbconvert_exporter": "python",
   "pygments_lexer": "ipython3",
   "version": "3.9.12"
  },
  "orig_nbformat": 4
 },
 "nbformat": 4,
 "nbformat_minor": 2
}
