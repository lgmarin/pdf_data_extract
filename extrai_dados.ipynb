{
 "cells": [
  {
   "cell_type": "markdown",
   "metadata": {},
   "source": [
    "# PDF File Data Extractor\n",
    "This Notebook is a helper to extract data from a PDF file. \n",
    "The PDF contains data for planting different types of vegetables. The PDF is available by the Brazilian State Owned Company EMBRAPA."
   ]
  },
  {
   "cell_type": "markdown",
   "metadata": {},
   "source": [
    "## Install Dependencies\n",
    "\n",
    "For general data extraction from a pdf file, I'm using the [PyMuPDF](https://github.com/pymupdf/PyMuPDF-Utilities) package."
   ]
  },
  {
   "cell_type": "code",
   "execution_count": null,
   "metadata": {},
   "outputs": [
    {
     "name": "stdout",
     "output_type": "stream",
     "text": [
      "Requirement already satisfied: pymupdf in c:\\users\\luiz.marin\\anaconda3\\lib\\site-packages (1.19.6)\n"
     ]
    }
   ],
   "source": [
    "#Install Dependencies - PymuPDF\n",
    "!pip install pymupdf"
   ]
  },
  {
   "cell_type": "markdown",
   "metadata": {},
   "source": [
    "## Import PyMuPDF package and configurations\n",
    "\n",
    "PyMuPDF is loaded into python via the fitz package.\n",
    "\n",
    "Here I'm also setting the initial and final pages of the PDF that I want to read.\n"
   ]
  },
  {
   "cell_type": "code",
   "execution_count": null,
   "metadata": {},
   "outputs": [],
   "source": [
    "import fitz\n",
    "\n",
    "#Load PDF file\n",
    "pdf_document = fitz.open('pdf\\Catalogo-hortalicas.pdf')\n",
    "initial_page = 8\n",
    "final_page = 57\n"
   ]
  },
  {
   "cell_type": "markdown",
   "metadata": {},
   "source": [
    "## Data Extraction\n",
    "\n",
    "The data could be extract in form o words or blocks. The usagem may provided more or less relevant results according to the pdf file beeing read. For this case, I found that reading the blocks of content from the page provided better results."
   ]
  },
  {
   "cell_type": "code",
   "execution_count": null,
   "metadata": {},
   "outputs": [],
   "source": [
    "pages = []\n",
    "\n",
    "for page in range(initial_page-1, final_page-1):\n",
    "    pdf_page = pdf_document[page]\n",
    "    pages.append(pdf_page.get_text(\"blocks\"))"
   ]
  },
  {
   "cell_type": "code",
   "execution_count": 16,
   "metadata": {},
   "outputs": [],
   "source": [
    "\n",
    "\n",
    "#Clean Data\n",
    "#Search for first item\n",
    "clean_page = []\n",
    "clean_dict = []\n",
    "clean_list = []\n",
    "for page in pages:\n",
    "    for item in page:\n",
    "        if item[4].find(\"Nome popular\") != -1:\n",
    "            temp = item[4].replace(\"-\",\"–\", 1).replace('\\n', ' ').split(\"–\", 1)\n",
    "            temp[0] = temp[0].rstrip()\n",
    "            temp[1] = temp[1].lstrip()\n",
    "            clean_list.append(temp)\n",
    "        elif item[4].find(\"Nome científico\") != -1:\n",
    "            temp = item[4].replace(\"-\",\"–\", 1).replace('\\n', ' ').split(\"–\", 1)\n",
    "            temp[0] = temp[0].rstrip()\n",
    "            temp[1] = temp[1].lstrip()\n",
    "            clean_list.append(temp)\n",
    "        elif item[4].find(\"Descrição\") != -1:\n",
    "            temp = item[4].replace(\"-\",\"–\", 1).replace('\\n', ' ').split(\"–\", 1)\n",
    "            temp[0] = temp[0].rstrip()\n",
    "            temp[1] = temp[1].lstrip()\n",
    "            clean_list.append(temp)\n",
    "        elif item[4].find(\"Época e regiões para plantio\") != -1:\n",
    "            temp = item[4].replace(\"-\",\"–\", 1).replace('\\n', ' ').split(\"–\", 1)\n",
    "            temp[0] = temp[0].rstrip()\n",
    "            temp[1] = temp[1].lstrip()\n",
    "            clean_list.append(temp)           \n",
    "        elif item[4].find(\"Recomendações para aproveitamento\") != -1:\n",
    "            temp = item[4].replace(\"-\",\"–\", 1).replace('\\n', ' ').split(\"–\", 1)\n",
    "            temp[0] = temp[0].rstrip()\n",
    "            temp[1] = temp[1].lstrip()\n",
    "            clean_list.append(temp)\n",
    "    clean_page.append(clean_list)\n",
    "    clean_dict.append(dict(clean_list))\n",
    "    clean_list = []\n",
    "\n"
   ]
  }
 ],
 "metadata": {
  "interpreter": {
   "hash": "f1023349960d19f96f872dda9d5b5e94247ae02a66ea97e0746d4b96d9ae62d7"
  },
  "kernelspec": {
   "display_name": "Python 3.9.12 ('base')",
   "language": "python",
   "name": "python3"
  },
  "language_info": {
   "codemirror_mode": {
    "name": "ipython",
    "version": 3
   },
   "file_extension": ".py",
   "mimetype": "text/x-python",
   "name": "python",
   "nbconvert_exporter": "python",
   "pygments_lexer": "ipython3",
   "version": "3.9.12"
  },
  "orig_nbformat": 4
 },
 "nbformat": 4,
 "nbformat_minor": 2
}
